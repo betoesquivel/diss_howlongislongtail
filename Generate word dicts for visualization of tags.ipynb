{
 "cells": [
  {
   "cell_type": "code",
   "execution_count": 15,
   "metadata": {
    "collapsed": false
   },
   "outputs": [],
   "source": [
    "from json_extractor import from_file_get_n_docs\n",
    "import json\n",
    "from similarity import similar, map_list_a_to_b, best_match_list\n",
    "from collections import defaultdict"
   ]
  },
  {
   "cell_type": "markdown",
   "metadata": {},
   "source": [
    "# Get Parsed docs"
   ]
  },
  {
   "cell_type": "code",
   "execution_count": 2,
   "metadata": {
    "collapsed": false
   },
   "outputs": [],
   "source": [
    "STANFORD_FILENAME = '100_parsed_from_stanford.jsonl'\n",
    "TAGME_FILENAME    = '100_parsed_from_tagme.jsonl'\n",
    "WIKIFIER_FILENAME = '100_parsed_from_wikifier.jsonl'"
   ]
  },
  {
   "cell_type": "code",
   "execution_count": 3,
   "metadata": {
    "collapsed": true
   },
   "outputs": [],
   "source": [
    "stanford_parsed_docs = from_file_get_n_docs(STANFORD_FILENAME, 5)"
   ]
  },
  {
   "cell_type": "code",
   "execution_count": 4,
   "metadata": {
    "collapsed": true
   },
   "outputs": [],
   "source": [
    "wikifier_parsed_docs = from_file_get_n_docs(WIKIFIER_FILENAME, 5)"
   ]
  },
  {
   "cell_type": "code",
   "execution_count": 5,
   "metadata": {
    "collapsed": true
   },
   "outputs": [],
   "source": [
    "tagme_parsed_docs    = from_file_get_n_docs(TAGME_FILENAME, 5)"
   ]
  },
  {
   "cell_type": "code",
   "execution_count": 11,
   "metadata": {
    "collapsed": true
   },
   "outputs": [],
   "source": [
    "test_index = 0\n",
    "stanford_doc = stanford_parsed_docs[test_index]\n",
    "wikifier_doc = wikifier_parsed_docs[test_index]\n",
    "tagme_doc = tagme_parsed_docs[test_index]"
   ]
  },
  {
   "cell_type": "markdown",
   "metadata": {},
   "source": [
    "# Generate Word Dicts"
   ]
  },
  {
   "cell_type": "markdown",
   "metadata": {},
   "source": [
    "## Common token list + tagged-words dictionary => tagged-words list"
   ]
  },
  {
   "cell_type": "markdown",
   "metadata": {},
   "source": [
    "#### Getting a word annotation from a token_index, a map and a tagged_words map"
   ]
  },
  {
   "cell_type": "code",
   "execution_count": 21,
   "metadata": {
    "collapsed": true
   },
   "outputs": [],
   "source": [
    "def merge_dicts(x, y):\n",
    "    '''Given two dicts, merge them into a new dict as a shallow copy.'''\n",
    "    z = x.copy()\n",
    "    z.update(y)\n",
    "    \n",
    "    return z\n",
    "\n",
    "add_color_to_map = lambda c, m: {int(k): merge_dicts({'color': c}, v) for k, v in m.items()}\n",
    "\n",
    "no_match_color = {'color': 'white'}\n",
    "word_tag_from_index_and_maps = lambda i, atob, b: b.get(atob[i], no_match_color)\n",
    "\n",
    "def tag_tokens_with_linked_doc(tokens, linker_doc, color=\"royalblue\"):\n",
    "    tokens_to_linker = map_list_a_to_b(tokens, linker_doc['tokens'])\n",
    "    \n",
    "    tagged_words = add_color_to_map(color, linker_doc['tagged-words'])\n",
    "    tags = [word_tag_from_index_and_maps(i, tokens_to_linker, tagged_words) for (i, word) in enumerate(tokens)]\n",
    "    \n",
    "    return tags"
   ]
  },
  {
   "cell_type": "markdown",
   "metadata": {},
   "source": [
    "#### Stanford to Wikifier"
   ]
  },
  {
   "cell_type": "code",
   "execution_count": 23,
   "metadata": {
    "collapsed": false
   },
   "outputs": [],
   "source": [
    "stanford_to_wikifier = tag_tokens_with_linked_doc(stanford_doc['tokens'], wikifier_doc)"
   ]
  },
  {
   "cell_type": "code",
   "execution_count": 45,
   "metadata": {
    "collapsed": false
   },
   "outputs": [
    {
     "data": {
      "text/plain": [
       "{'color': 'royalblue',\n",
       " u'cosine': 0.2378448458365748,\n",
       " u'dbPediaIri': u'http://dbpedia.org/resource/Worcester',\n",
       " u'dbPediaTypes': [u'City', u'Settlement', u'PopulatedPlace', u'Place'],\n",
       " u'secLang': u'en',\n",
       " u'secTitle': u'Worcester',\n",
       " u'secUrl': u'http://en.wikipedia.org/wiki/Worcester'}"
      ]
     },
     "execution_count": 45,
     "metadata": {},
     "output_type": "execute_result"
    }
   ],
   "source": [
    "stanford_to_wikifier[2]"
   ]
  },
  {
   "cell_type": "markdown",
   "metadata": {},
   "source": [
    "#### Stanford to Tagme"
   ]
  },
  {
   "cell_type": "code",
   "execution_count": 33,
   "metadata": {
    "collapsed": false
   },
   "outputs": [],
   "source": [
    "stanford_to_tagme = tag_tokens_with_linked_doc(stanford_doc['tokens'], tagme_doc, 'tomato')"
   ]
  },
  {
   "cell_type": "code",
   "execution_count": 46,
   "metadata": {
    "collapsed": false
   },
   "outputs": [
    {
     "data": {
      "text/plain": [
       "({'color': 'tomato',\n",
       "  u'dbpedia_categories': [u'Worcester',\n",
       "   u'Populated places on the River Severn',\n",
       "   u'County towns in England',\n",
       "   u'Local government in Worcestershire',\n",
       "   u'Non-metropolitan districts of Worcestershire',\n",
       "   u'Local government districts of the West Midlands (region)',\n",
       "   u'Post towns in the WR postcode area',\n",
       "   u'Cities in the West Midlands (region)'],\n",
       "  u'end': 2,\n",
       "  u'id': 58681,\n",
       "  u'link_probability': u'0.26996',\n",
       "  u'rho': u'0.18800',\n",
       "  u'spot': u'Worcester',\n",
       "  u'start': 2,\n",
       "  u'title': u'Worcester'},\n",
       " u\"Worcester's\")"
      ]
     },
     "execution_count": 46,
     "metadata": {},
     "output_type": "execute_result"
    }
   ],
   "source": [
    "stanford_to_tagme[2], stanford_doc['tokens'][2]"
   ]
  }
 ],
 "metadata": {
  "kernelspec": {
   "display_name": "Python 2",
   "language": "python",
   "name": "python2"
  },
  "language_info": {
   "codemirror_mode": {
    "name": "ipython",
    "version": 2
   },
   "file_extension": ".py",
   "mimetype": "text/x-python",
   "name": "python",
   "nbconvert_exporter": "python",
   "pygments_lexer": "ipython2",
   "version": "2.7.11"
  }
 },
 "nbformat": 4,
 "nbformat_minor": 0
}
