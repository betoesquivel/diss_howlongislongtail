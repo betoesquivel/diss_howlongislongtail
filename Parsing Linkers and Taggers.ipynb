{
 "cells": [
  {
   "cell_type": "code",
   "execution_count": 54,
   "metadata": {
    "collapsed": false
   },
   "outputs": [],
   "source": [
    "from collections import defaultdict\n",
    "import copy\n",
    "import json\n",
    "\n",
    "from json_extractor import from_file_get_n_docs\n",
    "from tagged_document_parsing_lib import all_possible_mentions_for_surface_forms\n",
    "\n",
    "from stanford_parser import parse_stanford_doc\n",
    "from wikifier_parser import parse_wikifier_doc"
   ]
  },
  {
   "cell_type": "markdown",
   "metadata": {},
   "source": [
    "# Read in Data"
   ]
  },
  {
   "cell_type": "code",
   "execution_count": 55,
   "metadata": {
    "collapsed": true
   },
   "outputs": [],
   "source": [
    "stanford_file_name = './50_tagged_by_stanford.jsonl'\n",
    "wikifier_file_name = './100_tagged_by_wikifier.jsonl'\n",
    "tagme_file_name = './100_tagged_by_tagme_longtext_0_epsilon_dot1_includecategories_includeallspots.jsonl'"
   ]
  },
  {
   "cell_type": "code",
   "execution_count": 56,
   "metadata": {
    "collapsed": true
   },
   "outputs": [],
   "source": [
    "stanford_docs = from_file_get_n_docs(stanford_file_name, 10)"
   ]
  },
  {
   "cell_type": "code",
   "execution_count": 57,
   "metadata": {
    "collapsed": true
   },
   "outputs": [],
   "source": [
    "wikifier_docs = from_file_get_n_docs(wikifier_file_name, 10)"
   ]
  },
  {
   "cell_type": "code",
   "execution_count": 58,
   "metadata": {
    "collapsed": true
   },
   "outputs": [],
   "source": [
    "tagme_docs = from_file_get_n_docs(tagme_file_name, 10)"
   ]
  },
  {
   "cell_type": "markdown",
   "metadata": {},
   "source": [
    "# Parse Stanford\n",
    "From here on, parsing means, converting the output from the stanford tagger into one dictionary with two main keys: entities and tagged-words.\n",
    "\n",
    "Entities is a map with the entity surface_form and type in json form as a key, and a list of mentions in the doc as value.\n",
    "\n",
    "tagged-words is a map with a token word index as key, and the mention in which surface_form it is contained as value."
   ]
  },
  {
   "cell_type": "code",
   "execution_count": 59,
   "metadata": {
    "collapsed": false,
    "scrolled": true
   },
   "outputs": [],
   "source": [
    "stanford_parsed_docs = [parse_stanford_doc(doc) for doc in stanford_docs]"
   ]
  },
  {
   "cell_type": "markdown",
   "metadata": {},
   "source": [
    "# Parse Wikifier"
   ]
  },
  {
   "cell_type": "code",
   "execution_count": 73,
   "metadata": {
    "collapsed": false
   },
   "outputs": [],
   "source": [
    "wikifier_parsed_docs = [parse_wikifier_doc(doc) for doc in wikifier_docs]"
   ]
  },
  {
   "cell_type": "markdown",
   "metadata": {},
   "source": [
    "# Parse Tagme"
   ]
  },
  {
   "cell_type": "code",
   "execution_count": null,
   "metadata": {
    "collapsed": true
   },
   "outputs": [],
   "source": [
    "def parse_tagme_doc(doc):\n",
    "    indexed_tagme_annotations = defaultdict(lambda: [])\n",
    "    for annotation in doc['annotations']:\n",
    "        all_possible_annotation_indexes = all_types_for_surface_form(annotation['spot'])\n",
    "        for index in all_possible_annotation_indexes:\n",
    "            indexed_tagme_annotations[json.dumps(index, ensure_ascii=False)].append(annotation)\n",
    "    return indexed_tagme_annotations"
   ]
  },
  {
   "cell_type": "code",
   "execution_count": 80,
   "metadata": {
    "collapsed": false,
    "scrolled": false
   },
   "outputs": [
    {
     "data": {
      "text/plain": [
       "(137,\n",
       " [u'VETERANS',\n",
       "  u'saluted',\n",
       "  u'Worcester',\n",
       "  u'breakfast',\n",
       "  u'club',\n",
       "  u'won',\n",
       "  u'hearts,',\n",
       "  u'minds',\n",
       "  u'HM',\n",
       "  u'Forces',\n",
       "  u'met',\n",
       "  u'Postal',\n",
       "  u'Order',\n",
       "  u'Foregate',\n",
       "  u'Street',\n",
       "  u'10am',\n",
       "  u'socialise',\n",
       "  u'eat',\n",
       "  u'hunger',\n",
       "  u'loneliness',\n",
       "  u'marching',\n",
       "  u'orders',\n",
       "  u'Dave',\n",
       "  u'Carney',\n",
       "  u'aged',\n",
       "  u'Hill',\n",
       "  u'set',\n",
       "  u'up',\n",
       "  u'clubs',\n",
       "  u'country',\n",
       "  u'you',\n",
       "  u'can',\n",
       "  u'picture',\n",
       "  u'we',\n",
       "  u'good',\n",
       "  u'Five',\n",
       "  u'out',\n",
       "  u'saw',\n",
       "  u'article',\n",
       "  u'newspaper',\n",
       "  u'turned',\n",
       "  u'old',\n",
       "  u'chap',\n",
       "  u'travel',\n",
       "  u'Droitwich',\n",
       "  u'parade',\n",
       "  u'hours',\n",
       "  u'generated',\n",
       "  u'lot',\n",
       "  u'interest',\n",
       "  u'estimate',\n",
       "  u'who',\n",
       "  u'next',\n",
       "  u'month',\n",
       "  u'meeting',\n",
       "  u'will',\n",
       "  u'people',\n",
       "  u'Onwards',\n",
       "  u'and',\n",
       "  u'upwards',\n",
       "  u'management',\n",
       "  u'pub',\n",
       "  u'hospitable',\n",
       "  u'bent',\n",
       "  u'backwards',\n",
       "  u'us',\n",
       "  u'looked',\n",
       "  u'after',\n",
       "  u'well',\n",
       "  u'the',\n",
       "  u'best',\n",
       "  u'best',\n",
       "  u'choice',\n",
       "  u'choice',\n",
       "  u'of',\n",
       "  u'venue',\n",
       "  u'reserved',\n",
       "  u'armed',\n",
       "  u'forces',\n",
       "  u'Promoted',\n",
       "  u'stories',\n",
       "  u'reserve',\n",
       "  u'veteran',\n",
       "  u'Royal',\n",
       "  u'Engineers',\n",
       "  u'wanted',\n",
       "  u'go',\n",
       "  u'ones',\n",
       "  u'Bromsgrove',\n",
       "  u'Gloucester',\n",
       "  u'closer',\n",
       "  u'to',\n",
       "  u'home',\n",
       "  u'Derek',\n",
       "  u'Hardman',\n",
       "  u'Hull',\n",
       "  u'Andy',\n",
       "  u'Wilson',\n",
       "  u'set',\n",
       "  u'one',\n",
       "  u'one',\n",
       "  u'up',\n",
       "  u'Newcastle',\n",
       "  u'idea',\n",
       "  u'now',\n",
       "  u'70',\n",
       "  u'Germany',\n",
       "  u'Royal',\n",
       "  u'British',\n",
       "  u'Legion',\n",
       "  u'closing',\n",
       "  u'personnel',\n",
       "  u'feel',\n",
       "  u'somewhere',\n",
       "  u'for',\n",
       "  u'good',\n",
       "  u'grub',\n",
       "  u'beer',\n",
       "  u'banter',\n",
       "  u'recapture',\n",
       "  u'comradery',\n",
       "  u'chosen',\n",
       "  u'central',\n",
       "  u'location',\n",
       "  u'proximity',\n",
       "  u'railway',\n",
       "  u'station',\n",
       "  u'hotels',\n",
       "  u'food',\n",
       "  u'and',\n",
       "  u'drink',\n",
       "  u'designated',\n",
       "  u'area',\n",
       "  u'Share',\n",
       "  u'first',\n",
       "  u'Saturday',\n",
       "  u'future'])"
      ]
     },
     "execution_count": 80,
     "metadata": {},
     "output_type": "execute_result"
    }
   ],
   "source": [
    "tokens = []\n",
    "map(tokens.extend, [a['spot'].split() for a in tagme_docs[0]['annotations']])\n",
    "len(tokens), tokens"
   ]
  },
  {
   "cell_type": "code",
   "execution_count": 65,
   "metadata": {
    "collapsed": false
   },
   "outputs": [
    {
     "data": {
      "text/plain": [
       "[u'lang', u'timestamp', u'api', u'time', u'test', u'annotations']"
      ]
     },
     "execution_count": 65,
     "metadata": {},
     "output_type": "execute_result"
    }
   ],
   "source": [
    "tagme_docs[0].keys()"
   ]
  },
  {
   "cell_type": "code",
   "execution_count": 74,
   "metadata": {
    "collapsed": false
   },
   "outputs": [
    {
     "data": {
      "text/plain": [
       "404"
      ]
     },
     "execution_count": 74,
     "metadata": {},
     "output_type": "execute_result"
    }
   ],
   "source": [
    "len(wikifier_parsed_docs[0]['tokens'])"
   ]
  },
  {
   "cell_type": "code",
   "execution_count": 75,
   "metadata": {
    "collapsed": false
   },
   "outputs": [
    {
     "data": {
      "text/plain": [
       "404"
      ]
     },
     "execution_count": 75,
     "metadata": {},
     "output_type": "execute_result"
    }
   ],
   "source": [
    "len(stanford_parsed_docs[0]['tokens'])"
   ]
  },
  {
   "cell_type": "code",
   "execution_count": null,
   "metadata": {
    "collapsed": true
   },
   "outputs": [],
   "source": []
  }
 ],
 "metadata": {
  "kernelspec": {
   "display_name": "Python 2",
   "language": "python",
   "name": "python2"
  }
 },
 "nbformat": 4,
 "nbformat_minor": 0
}
