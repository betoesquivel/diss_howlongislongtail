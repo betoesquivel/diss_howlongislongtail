{
 "cells": [
  {
   "cell_type": "markdown",
   "metadata": {},
   "source": [
    "# Get 50 sample documents"
   ]
  },
  {
   "cell_type": "code",
   "execution_count": 1,
   "metadata": {
    "collapsed": true
   },
   "outputs": [],
   "source": [
    "import sample_data\n",
    "docs = sample_data.n_samples(50)"
   ]
  },
  {
   "cell_type": "markdown",
   "metadata": {},
   "source": [
    "# Imports and environment var prep"
   ]
  },
  {
   "cell_type": "code",
   "execution_count": 2,
   "metadata": {
    "collapsed": true
   },
   "outputs": [],
   "source": [
    "!source .env"
   ]
  },
  {
   "cell_type": "code",
   "execution_count": 3,
   "metadata": {
    "collapsed": false
   },
   "outputs": [],
   "source": [
    "import os\n",
    "import requests\n",
    "import json\n",
    "import pandas as pd"
   ]
  },
  {
   "cell_type": "markdown",
   "metadata": {},
   "source": [
    "# Tag Me"
   ]
  },
  {
   "cell_type": "code",
   "execution_count": 4,
   "metadata": {
    "collapsed": true
   },
   "outputs": [],
   "source": [
    "TAGME_KEY = os.environ['TAGME_KEY']\n",
    "TAGME_URL = \"https://tagme.d4science.org/tagme/tag\""
   ]
  },
  {
   "cell_type": "markdown",
   "metadata": {},
   "source": [
    "## Tag Me: Test for 1 document"
   ]
  },
  {
   "cell_type": "code",
   "execution_count": 5,
   "metadata": {
    "collapsed": true
   },
   "outputs": [],
   "source": [
    "payload = {\n",
    "    'text': docs[0]['content'],\n",
    "    'lang': 'en',\n",
    "    'gcube-token': TAGME_KEY\n",
    "}\n",
    "r = requests.get(TAGME_URL, params=payload)"
   ]
  },
  {
   "cell_type": "code",
   "execution_count": 6,
   "metadata": {
    "collapsed": false
   },
   "outputs": [
    {
     "data": {
      "text/html": [
       "<div>\n",
       "<table border=\"1\" class=\"dataframe\">\n",
       "  <thead>\n",
       "    <tr style=\"text-align: right;\">\n",
       "      <th></th>\n",
       "      <th>end</th>\n",
       "      <th>id</th>\n",
       "      <th>link_probability</th>\n",
       "      <th>rho</th>\n",
       "      <th>spot</th>\n",
       "      <th>start</th>\n",
       "      <th>title</th>\n",
       "    </tr>\n",
       "  </thead>\n",
       "  <tbody>\n",
       "    <tr>\n",
       "      <th>92</th>\n",
       "      <td>1454</td>\n",
       "      <td>30128985</td>\n",
       "      <td>1.00000</td>\n",
       "      <td>0.50000</td>\n",
       "      <td>Derek Hardman</td>\n",
       "      <td>1441</td>\n",
       "      <td>Derek Hardman</td>\n",
       "    </tr>\n",
       "    <tr>\n",
       "      <th>141</th>\n",
       "      <td>2199</td>\n",
       "      <td>1713168</td>\n",
       "      <td>1.00000</td>\n",
       "      <td>0.51818</td>\n",
       "      <td>Postal Order</td>\n",
       "      <td>2187</td>\n",
       "      <td>Postal order</td>\n",
       "    </tr>\n",
       "    <tr>\n",
       "      <th>10</th>\n",
       "      <td>191</td>\n",
       "      <td>1713168</td>\n",
       "      <td>1.00000</td>\n",
       "      <td>0.51361</td>\n",
       "      <td>Postal Order</td>\n",
       "      <td>179</td>\n",
       "      <td>Postal order</td>\n",
       "    </tr>\n",
       "    <tr>\n",
       "      <th>124</th>\n",
       "      <td>1908</td>\n",
       "      <td>1713168</td>\n",
       "      <td>1.00000</td>\n",
       "      <td>0.50628</td>\n",
       "      <td>Postal Order</td>\n",
       "      <td>1896</td>\n",
       "      <td>Postal order</td>\n",
       "    </tr>\n",
       "    <tr>\n",
       "      <th>108</th>\n",
       "      <td>1710</td>\n",
       "      <td>874843</td>\n",
       "      <td>0.86486</td>\n",
       "      <td>0.46489</td>\n",
       "      <td>Royal British Legion</td>\n",
       "      <td>1690</td>\n",
       "      <td>The Royal British Legion</td>\n",
       "    </tr>\n",
       "    <tr>\n",
       "      <th>81</th>\n",
       "      <td>1273</td>\n",
       "      <td>269769</td>\n",
       "      <td>0.85391</td>\n",
       "      <td>0.49025</td>\n",
       "      <td>Royal Engineers</td>\n",
       "      <td>1258</td>\n",
       "      <td>Royal Engineers</td>\n",
       "    </tr>\n",
       "    <tr>\n",
       "      <th>45</th>\n",
       "      <td>728</td>\n",
       "      <td>1252416</td>\n",
       "      <td>0.69252</td>\n",
       "      <td>0.35501</td>\n",
       "      <td>Droitwich</td>\n",
       "      <td>719</td>\n",
       "      <td>Droitwich Transmitting Station</td>\n",
       "    </tr>\n",
       "    <tr>\n",
       "      <th>84</th>\n",
       "      <td>1306</td>\n",
       "      <td>29943</td>\n",
       "      <td>0.67213</td>\n",
       "      <td>0.38962</td>\n",
       "      <td>breakfast club</td>\n",
       "      <td>1292</td>\n",
       "      <td>The Breakfast Club</td>\n",
       "    </tr>\n",
       "    <tr>\n",
       "      <th>4</th>\n",
       "      <td>54</td>\n",
       "      <td>4406401</td>\n",
       "      <td>0.67213</td>\n",
       "      <td>0.33607</td>\n",
       "      <td>breakfast club</td>\n",
       "      <td>40</td>\n",
       "      <td>Breakfast Club (band)</td>\n",
       "    </tr>\n",
       "    <tr>\n",
       "      <th>143</th>\n",
       "      <td>2253</td>\n",
       "      <td>4406401</td>\n",
       "      <td>0.67213</td>\n",
       "      <td>0.36547</td>\n",
       "      <td>breakfast club</td>\n",
       "      <td>2239</td>\n",
       "      <td>Breakfast Club (band)</td>\n",
       "    </tr>\n",
       "    <tr>\n",
       "      <th>94</th>\n",
       "      <td>1482</td>\n",
       "      <td>29943</td>\n",
       "      <td>0.67213</td>\n",
       "      <td>0.34720</td>\n",
       "      <td>breakfast club</td>\n",
       "      <td>1468</td>\n",
       "      <td>The Breakfast Club</td>\n",
       "    </tr>\n",
       "    <tr>\n",
       "      <th>97</th>\n",
       "      <td>1519</td>\n",
       "      <td>3070620</td>\n",
       "      <td>0.61538</td>\n",
       "      <td>0.33204</td>\n",
       "      <td>Andy Wilson</td>\n",
       "      <td>1508</td>\n",
       "      <td>Andrew Wilson (footballer, born 1896)</td>\n",
       "    </tr>\n",
       "    <tr>\n",
       "      <th>86</th>\n",
       "      <td>1352</td>\n",
       "      <td>351846</td>\n",
       "      <td>0.57632</td>\n",
       "      <td>0.33074</td>\n",
       "      <td>Bromsgrove</td>\n",
       "      <td>1342</td>\n",
       "      <td>Bromsgrove</td>\n",
       "    </tr>\n",
       "    <tr>\n",
       "      <th>105</th>\n",
       "      <td>1660</td>\n",
       "      <td>250204</td>\n",
       "      <td>0.42441</td>\n",
       "      <td>0.24779</td>\n",
       "      <td>Germany</td>\n",
       "      <td>1653</td>\n",
       "      <td>Germany national football team</td>\n",
       "    </tr>\n",
       "    <tr>\n",
       "      <th>87</th>\n",
       "      <td>1367</td>\n",
       "      <td>65370</td>\n",
       "      <td>0.32311</td>\n",
       "      <td>0.21510</td>\n",
       "      <td>Gloucester</td>\n",
       "      <td>1357</td>\n",
       "      <td>Gloucester</td>\n",
       "    </tr>\n",
       "    <tr>\n",
       "      <th>7</th>\n",
       "      <td>158</td>\n",
       "      <td>31730</td>\n",
       "      <td>0.31746</td>\n",
       "      <td>0.24936</td>\n",
       "      <td>HM Forces</td>\n",
       "      <td>149</td>\n",
       "      <td>British Armed Forces</td>\n",
       "    </tr>\n",
       "    <tr>\n",
       "      <th>24</th>\n",
       "      <td>436</td>\n",
       "      <td>99312</td>\n",
       "      <td>0.26996</td>\n",
       "      <td>0.15853</td>\n",
       "      <td>Worcester</td>\n",
       "      <td>427</td>\n",
       "      <td>Worcester, Massachusetts</td>\n",
       "    </tr>\n",
       "    <tr>\n",
       "      <th>2</th>\n",
       "      <td>26</td>\n",
       "      <td>58681</td>\n",
       "      <td>0.26996</td>\n",
       "      <td>0.18812</td>\n",
       "      <td>Worcester</td>\n",
       "      <td>17</td>\n",
       "      <td>Worcester</td>\n",
       "    </tr>\n",
       "    <tr>\n",
       "      <th>129</th>\n",
       "      <td>1992</td>\n",
       "      <td>26161590</td>\n",
       "      <td>0.21716</td>\n",
       "      <td>0.13589</td>\n",
       "      <td>railway station</td>\n",
       "      <td>1977</td>\n",
       "      <td>Train station</td>\n",
       "    </tr>\n",
       "    <tr>\n",
       "      <th>6</th>\n",
       "      <td>99</td>\n",
       "      <td>38209818</td>\n",
       "      <td>0.19739</td>\n",
       "      <td>0.10696</td>\n",
       "      <td>hearts, minds</td>\n",
       "      <td>86</td>\n",
       "      <td>Winning hearts and minds</td>\n",
       "    </tr>\n",
       "    <tr>\n",
       "      <th>100</th>\n",
       "      <td>1547</td>\n",
       "      <td>70348</td>\n",
       "      <td>0.19463</td>\n",
       "      <td>0.16922</td>\n",
       "      <td>Newcastle</td>\n",
       "      <td>1538</td>\n",
       "      <td>Newcastle upon Tyne</td>\n",
       "    </tr>\n",
       "    <tr>\n",
       "      <th>96</th>\n",
       "      <td>1503</td>\n",
       "      <td>56474</td>\n",
       "      <td>0.18359</td>\n",
       "      <td>0.13899</td>\n",
       "      <td>Hull</td>\n",
       "      <td>1499</td>\n",
       "      <td>Kingston upon Hull</td>\n",
       "    </tr>\n",
       "    <tr>\n",
       "      <th>102</th>\n",
       "      <td>1602</td>\n",
       "      <td>18291370</td>\n",
       "      <td>0.13953</td>\n",
       "      <td>0.09407</td>\n",
       "      <td>now 70</td>\n",
       "      <td>1596</td>\n",
       "      <td>Now That's What I Call Music! 70 (UK series)</td>\n",
       "    </tr>\n",
       "    <tr>\n",
       "      <th>119</th>\n",
       "      <td>1826</td>\n",
       "      <td>3363</td>\n",
       "      <td>0.12881</td>\n",
       "      <td>0.12323</td>\n",
       "      <td>beer</td>\n",
       "      <td>1822</td>\n",
       "      <td>Beer</td>\n",
       "    </tr>\n",
       "    <tr>\n",
       "      <th>11</th>\n",
       "      <td>210</td>\n",
       "      <td>5574999</td>\n",
       "      <td>0.12821</td>\n",
       "      <td>0.06410</td>\n",
       "      <td>Foregate Street</td>\n",
       "      <td>195</td>\n",
       "      <td>Worcester Foregate Street railway station</td>\n",
       "    </tr>\n",
       "    <tr>\n",
       "      <th>133</th>\n",
       "      <td>2070</td>\n",
       "      <td>24578</td>\n",
       "      <td>0.11028</td>\n",
       "      <td>0.11059</td>\n",
       "      <td>pub</td>\n",
       "      <td>2067</td>\n",
       "      <td>Pub</td>\n",
       "    </tr>\n",
       "    <tr>\n",
       "      <th>63</th>\n",
       "      <td>979</td>\n",
       "      <td>24578</td>\n",
       "      <td>0.11028</td>\n",
       "      <td>0.09268</td>\n",
       "      <td>pub</td>\n",
       "      <td>976</td>\n",
       "      <td>Pub</td>\n",
       "    </tr>\n",
       "  </tbody>\n",
       "</table>\n",
       "</div>"
      ],
      "text/plain": [
       "      end        id  link_probability      rho                  spot  start  \\\n",
       "92   1454  30128985           1.00000  0.50000         Derek Hardman   1441   \n",
       "141  2199   1713168           1.00000  0.51818          Postal Order   2187   \n",
       "10    191   1713168           1.00000  0.51361          Postal Order    179   \n",
       "124  1908   1713168           1.00000  0.50628          Postal Order   1896   \n",
       "108  1710    874843           0.86486  0.46489  Royal British Legion   1690   \n",
       "81   1273    269769           0.85391  0.49025       Royal Engineers   1258   \n",
       "45    728   1252416           0.69252  0.35501             Droitwich    719   \n",
       "84   1306     29943           0.67213  0.38962        breakfast club   1292   \n",
       "4      54   4406401           0.67213  0.33607        breakfast club     40   \n",
       "143  2253   4406401           0.67213  0.36547        breakfast club   2239   \n",
       "94   1482     29943           0.67213  0.34720        breakfast club   1468   \n",
       "97   1519   3070620           0.61538  0.33204           Andy Wilson   1508   \n",
       "86   1352    351846           0.57632  0.33074            Bromsgrove   1342   \n",
       "105  1660    250204           0.42441  0.24779               Germany   1653   \n",
       "87   1367     65370           0.32311  0.21510            Gloucester   1357   \n",
       "7     158     31730           0.31746  0.24936             HM Forces    149   \n",
       "24    436     99312           0.26996  0.15853             Worcester    427   \n",
       "2      26     58681           0.26996  0.18812             Worcester     17   \n",
       "129  1992  26161590           0.21716  0.13589       railway station   1977   \n",
       "6      99  38209818           0.19739  0.10696         hearts, minds     86   \n",
       "100  1547     70348           0.19463  0.16922             Newcastle   1538   \n",
       "96   1503     56474           0.18359  0.13899                  Hull   1499   \n",
       "102  1602  18291370           0.13953  0.09407                now 70   1596   \n",
       "119  1826      3363           0.12881  0.12323                  beer   1822   \n",
       "11    210   5574999           0.12821  0.06410       Foregate Street    195   \n",
       "133  2070     24578           0.11028  0.11059                   pub   2067   \n",
       "63    979     24578           0.11028  0.09268                   pub    976   \n",
       "\n",
       "                                            title  \n",
       "92                                  Derek Hardman  \n",
       "141                                  Postal order  \n",
       "10                                   Postal order  \n",
       "124                                  Postal order  \n",
       "108                      The Royal British Legion  \n",
       "81                                Royal Engineers  \n",
       "45                 Droitwich Transmitting Station  \n",
       "84                             The Breakfast Club  \n",
       "4                           Breakfast Club (band)  \n",
       "143                         Breakfast Club (band)  \n",
       "94                             The Breakfast Club  \n",
       "97          Andrew Wilson (footballer, born 1896)  \n",
       "86                                     Bromsgrove  \n",
       "105                Germany national football team  \n",
       "87                                     Gloucester  \n",
       "7                            British Armed Forces  \n",
       "24                       Worcester, Massachusetts  \n",
       "2                                       Worcester  \n",
       "129                                 Train station  \n",
       "6                        Winning hearts and minds  \n",
       "100                           Newcastle upon Tyne  \n",
       "96                             Kingston upon Hull  \n",
       "102  Now That's What I Call Music! 70 (UK series)  \n",
       "119                                          Beer  \n",
       "11      Worcester Foregate Street railway station  \n",
       "133                                           Pub  \n",
       "63                                            Pub  "
      ]
     },
     "execution_count": 6,
     "metadata": {},
     "output_type": "execute_result"
    }
   ],
   "source": [
    "tags = json.loads(r.text)['annotations']\n",
    "df = pd.DataFrame(tags)\n",
    "df['link_probability'] = pd.to_numeric(df['link_probability'])\n",
    "sorted_df = df.sort_values(by='link_probability', ascending=False)\n",
    "sorted_df[sorted_df['link_probability'] > 0.1]"
   ]
  },
  {
   "cell_type": "code",
   "execution_count": 8,
   "metadata": {
    "collapsed": false
   },
   "outputs": [
    {
     "data": {
      "text/plain": [
       "149"
      ]
     },
     "execution_count": 8,
     "metadata": {},
     "output_type": "execute_result"
    }
   ],
   "source": [
    "tagme_payload = lambda text: {\n",
    "    'text': text,\n",
    "    'lang': 'en',\n",
    "    'gcube-token': TAGME_KEY\n",
    "}\n",
    "tagme_call = lambda text: requests.get(TAGME_URL, params=tagme_payload(text))\n",
    "tagme_tag = lambda text: json.loads(tagme_call(text).text).get('annotations', [])\n",
    "tags = tagme_tag(docs[0]['content'])\n",
    "tags.__len__()"
   ]
  },
  {
   "cell_type": "markdown",
   "metadata": {},
   "source": [
    "## Tag Me: Usage\n",
    "tagme_tag(text)"
   ]
  },
  {
   "cell_type": "markdown",
   "metadata": {},
   "source": [
    "# Wikifier"
   ]
  },
  {
   "cell_type": "code",
   "execution_count": 5,
   "metadata": {
    "collapsed": false
   },
   "outputs": [],
   "source": [
    "WIKIFIER_USER = os.environ['WIKIFIER_USER']\n",
    "WIKIFIER_KEY  = os.environ['WIKIFIER_KEY']\n",
    "WIKIFIER_URL  = \"http://www.wikifier.org/annotate-article\""
   ]
  },
  {
   "cell_type": "markdown",
   "metadata": {},
   "source": [
    "## Wikifier Example"
   ]
  },
  {
   "cell_type": "code",
   "execution_count": 7,
   "metadata": {
    "collapsed": false
   },
   "outputs": [
    {
     "data": {
      "text/plain": [
       "266"
      ]
     },
     "execution_count": 7,
     "metadata": {},
     "output_type": "execute_result"
    }
   ],
   "source": [
    "wikifier_payload = lambda text: {\n",
    "    'text': text,\n",
    "    'lang': 'en',\n",
    "    'userKey': WIKIFIER_KEY\n",
    "}\n",
    "wikifier_call = lambda text: requests.get(WIKIFIER_URL, params=wikifier_payload(text))\n",
    "wikifier_tag = lambda text: json.loads(wikifier_call(text).text).get('annotations', [])\n",
    "tags = wikifier_tag(docs[0]['content'])\n",
    "tags.__len__()"
   ]
  },
  {
   "cell_type": "markdown",
   "metadata": {},
   "source": [
    "# Stanford NER"
   ]
  },
  {
   "cell_type": "code",
   "execution_count": 9,
   "metadata": {
    "collapsed": true
   },
   "outputs": [],
   "source": [
    "from nltk.tag import StanfordNERTagger"
   ]
  },
  {
   "cell_type": "code",
   "execution_count": null,
   "metadata": {
    "collapsed": true
   },
   "outputs": [],
   "source": []
  }
 ],
 "metadata": {
  "kernelspec": {
   "display_name": "Python 2",
   "language": "python",
   "name": "python2"
  },
  "language_info": {
   "codemirror_mode": {
    "name": "ipython",
    "version": 2
   },
   "file_extension": ".py",
   "mimetype": "text/x-python",
   "name": "python",
   "nbconvert_exporter": "python",
   "pygments_lexer": "ipython2",
   "version": "2.7.11"
  }
 },
 "nbformat": 4,
 "nbformat_minor": 0
}
