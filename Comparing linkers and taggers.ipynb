{
 "cells": [
  {
   "cell_type": "markdown",
   "metadata": {},
   "source": [
    "# Normalizing the data"
   ]
  },
  {
   "cell_type": "markdown",
   "metadata": {},
   "source": [
    "## What questions do I want to answer?\n",
    "    How many entities finds Stanford vs Wikifier and Tagme? \n",
    "    How many ORG entities finds Stanford vs Wikifier and Tagme?\n",
    "    How many LOC entities finds Stanford vs Wikifier and Tagme?\n",
    "    How many PER entities finds Stanford vs Wikifier and Tagme?\n",
    "\n",
    "I therefore need to normalize the data in the following way.\n",
    "\n",
    "Each entity id'd by the NER or linker should be represented as:\n",
    "````\n",
    "    {\n",
    "        Surface form:\n",
    "        Type:\n",
    "    }\n",
    "```\n",
    "\n",
    "So a document will yield an object with:\n",
    "```\n",
    "    {\n",
    "        Entities: []\n",
    "        ORG:\n",
    "        LOC:\n",
    "        PER:\n",
    "    }\n",
    "```\n",
    "This way I can compare documents into a comparison object: \n",
    "```\n",
    "    {\n",
    "        Long-Tail: []\n",
    "        ORG:\n",
    "        LOC:\n",
    "        PER:\n",
    "    }\n",
    "```"
   ]
  },
  {
   "cell_type": "markdown",
   "metadata": {},
   "source": [
    "## Stanford"
   ]
  },
  {
   "cell_type": "markdown",
   "metadata": {},
   "source": [
    "### Finding the entities"
   ]
  },
  {
   "cell_type": "code",
   "execution_count": null,
   "metadata": {
    "collapsed": true
   },
   "outputs": [],
   "source": []
  }
 ],
 "metadata": {
  "kernelspec": {
   "display_name": "Python 2",
   "language": "python",
   "name": "python2"
  },
  "language_info": {
   "codemirror_mode": {
    "name": "ipython",
    "version": 2
   },
   "file_extension": ".py",
   "mimetype": "text/x-python",
   "name": "python",
   "nbconvert_exporter": "python",
   "pygments_lexer": "ipython2",
   "version": "2.7.11"
  }
 },
 "nbformat": 4,
 "nbformat_minor": 0
}
